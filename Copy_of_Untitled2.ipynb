{
  "nbformat": 4,
  "nbformat_minor": 0,
  "metadata": {
    "colab": {
      "provenance": [],
      "authorship_tag": "ABX9TyMHUr09R96741zu/FuG/P9v",
      "include_colab_link": true
    },
    "kernelspec": {
      "name": "python3",
      "display_name": "Python 3"
    },
    "language_info": {
      "name": "python"
    }
  },
  "cells": [
    {
      "cell_type": "markdown",
      "metadata": {
        "id": "view-in-github",
        "colab_type": "text"
      },
      "source": [
        "<a href=\"https://colab.research.google.com/github/Oluwafunso56/2022-GTB-OPERATING-SEGMENT/blob/main/Copy_of_Untitled2.ipynb\" target=\"_parent\"><img src=\"https://colab.research.google.com/assets/colab-badge.svg\" alt=\"Open In Colab\"/></a>"
      ]
    },
    {
      "cell_type": "code",
      "execution_count": null,
      "metadata": {
        "colab": {
          "base_uri": "https://localhost:8080/"
        },
        "id": "-mNTDUeSPDu2",
        "outputId": "615b3dc9-9038-4ef4-9343-890b7f0495eb"
      },
      "outputs": [
        {
          "output_type": "stream",
          "name": "stdout",
          "text": [
            "Mounted at /content/drive\n"
          ]
        }
      ],
      "source": [
        "from google.colab import drive\n",
        "\n",
        "drive.mount('/content/drive')\n",
        "\n",
        "\n"
      ]
    },
    {
      "cell_type": "code",
      "source": [
        "import pandas as pd\n",
        "\n",
        "\n",
        "data = pd.read_excel('/content/drive/MyDrive/Dataset/Assessment Dataset.xlsx')\n"
      ],
      "metadata": {
        "id": "9zzNSuZ6PspN"
      },
      "execution_count": null,
      "outputs": []
    },
    {
      "cell_type": "code",
      "source": [
        "data.head()\n"
      ],
      "metadata": {
        "colab": {
          "base_uri": "https://localhost:8080/",
          "height": 417
        },
        "id": "9Dr1gnp2R49r",
        "outputId": "9ed62371-fdfe-43ac-e255-9209311666d5"
      },
      "execution_count": null,
      "outputs": [
        {
          "output_type": "execute_result",
          "data": {
            "text/plain": [
              "     Customer ID    Recipient  Amount          Tranx_Date  \\\n",
              "0  8304555449023  0807643XXXX  1650.0 2024-11-24 08:34:03   \n",
              "1  8304555449023  0808341XXXX  1150.0 2024-11-24 13:37:55   \n",
              "2  8304555449023  0703388XXXX   850.0 2024-11-24 09:02:44   \n",
              "3  8304555449023  0806770XXXX   750.0 2024-11-24 20:35:43   \n",
              "4  8304555449023  0802066XXXX   850.0 2024-11-24 08:31:21   \n",
              "\n",
              "                 Tranx ID        Updated Time  Buying Price  \\\n",
              "0  7222324112408349006592 2024-11-24 08:34:03        1615.0   \n",
              "1  7232124112413371719392 2024-11-24 13:37:56        1132.5   \n",
              "2  7232424112409020587992 2024-11-24 09:02:45         843.0   \n",
              "3  7222424112420356982192 2024-11-24 20:35:44         746.5   \n",
              "4  7222124112408315785092 2024-11-24 08:31:22         843.0   \n",
              "\n",
              "  Transaction Gateway Seller Name Vending Channel Account Type Location  \\\n",
              "0               GTW-3         CS1          Direct     postpaid       UK   \n",
              "1               GTW-3         CS1          Direct     postpaid       UK   \n",
              "2               GTW-2         CS2          Direct     postpaid       UK   \n",
              "3               GTW-2         CS2          Direct     postpaid       UK   \n",
              "4               GTW-3         CS1          Direct     postpaid       UK   \n",
              "\n",
              "   product      Status  \n",
              "0     data  Successful  \n",
              "1  airtime  Successful  \n",
              "2  airtime  Successful  \n",
              "3  airtime  Successful  \n",
              "4  airtime  Successful  "
            ],
            "text/html": [
              "\n",
              "  <div id=\"df-c27418cc-ac7d-4311-933c-baeede9f8f53\" class=\"colab-df-container\">\n",
              "    <div>\n",
              "<style scoped>\n",
              "    .dataframe tbody tr th:only-of-type {\n",
              "        vertical-align: middle;\n",
              "    }\n",
              "\n",
              "    .dataframe tbody tr th {\n",
              "        vertical-align: top;\n",
              "    }\n",
              "\n",
              "    .dataframe thead th {\n",
              "        text-align: right;\n",
              "    }\n",
              "</style>\n",
              "<table border=\"1\" class=\"dataframe\">\n",
              "  <thead>\n",
              "    <tr style=\"text-align: right;\">\n",
              "      <th></th>\n",
              "      <th>Customer ID</th>\n",
              "      <th>Recipient</th>\n",
              "      <th>Amount</th>\n",
              "      <th>Tranx_Date</th>\n",
              "      <th>Tranx ID</th>\n",
              "      <th>Updated Time</th>\n",
              "      <th>Buying Price</th>\n",
              "      <th>Transaction Gateway</th>\n",
              "      <th>Seller Name</th>\n",
              "      <th>Vending Channel</th>\n",
              "      <th>Account Type</th>\n",
              "      <th>Location</th>\n",
              "      <th>product</th>\n",
              "      <th>Status</th>\n",
              "    </tr>\n",
              "  </thead>\n",
              "  <tbody>\n",
              "    <tr>\n",
              "      <th>0</th>\n",
              "      <td>8304555449023</td>\n",
              "      <td>0807643XXXX</td>\n",
              "      <td>1650.0</td>\n",
              "      <td>2024-11-24 08:34:03</td>\n",
              "      <td>7222324112408349006592</td>\n",
              "      <td>2024-11-24 08:34:03</td>\n",
              "      <td>1615.0</td>\n",
              "      <td>GTW-3</td>\n",
              "      <td>CS1</td>\n",
              "      <td>Direct</td>\n",
              "      <td>postpaid</td>\n",
              "      <td>UK</td>\n",
              "      <td>data</td>\n",
              "      <td>Successful</td>\n",
              "    </tr>\n",
              "    <tr>\n",
              "      <th>1</th>\n",
              "      <td>8304555449023</td>\n",
              "      <td>0808341XXXX</td>\n",
              "      <td>1150.0</td>\n",
              "      <td>2024-11-24 13:37:55</td>\n",
              "      <td>7232124112413371719392</td>\n",
              "      <td>2024-11-24 13:37:56</td>\n",
              "      <td>1132.5</td>\n",
              "      <td>GTW-3</td>\n",
              "      <td>CS1</td>\n",
              "      <td>Direct</td>\n",
              "      <td>postpaid</td>\n",
              "      <td>UK</td>\n",
              "      <td>airtime</td>\n",
              "      <td>Successful</td>\n",
              "    </tr>\n",
              "    <tr>\n",
              "      <th>2</th>\n",
              "      <td>8304555449023</td>\n",
              "      <td>0703388XXXX</td>\n",
              "      <td>850.0</td>\n",
              "      <td>2024-11-24 09:02:44</td>\n",
              "      <td>7232424112409020587992</td>\n",
              "      <td>2024-11-24 09:02:45</td>\n",
              "      <td>843.0</td>\n",
              "      <td>GTW-2</td>\n",
              "      <td>CS2</td>\n",
              "      <td>Direct</td>\n",
              "      <td>postpaid</td>\n",
              "      <td>UK</td>\n",
              "      <td>airtime</td>\n",
              "      <td>Successful</td>\n",
              "    </tr>\n",
              "    <tr>\n",
              "      <th>3</th>\n",
              "      <td>8304555449023</td>\n",
              "      <td>0806770XXXX</td>\n",
              "      <td>750.0</td>\n",
              "      <td>2024-11-24 20:35:43</td>\n",
              "      <td>7222424112420356982192</td>\n",
              "      <td>2024-11-24 20:35:44</td>\n",
              "      <td>746.5</td>\n",
              "      <td>GTW-2</td>\n",
              "      <td>CS2</td>\n",
              "      <td>Direct</td>\n",
              "      <td>postpaid</td>\n",
              "      <td>UK</td>\n",
              "      <td>airtime</td>\n",
              "      <td>Successful</td>\n",
              "    </tr>\n",
              "    <tr>\n",
              "      <th>4</th>\n",
              "      <td>8304555449023</td>\n",
              "      <td>0802066XXXX</td>\n",
              "      <td>850.0</td>\n",
              "      <td>2024-11-24 08:31:21</td>\n",
              "      <td>7222124112408315785092</td>\n",
              "      <td>2024-11-24 08:31:22</td>\n",
              "      <td>843.0</td>\n",
              "      <td>GTW-3</td>\n",
              "      <td>CS1</td>\n",
              "      <td>Direct</td>\n",
              "      <td>postpaid</td>\n",
              "      <td>UK</td>\n",
              "      <td>airtime</td>\n",
              "      <td>Successful</td>\n",
              "    </tr>\n",
              "  </tbody>\n",
              "</table>\n",
              "</div>\n",
              "    <div class=\"colab-df-buttons\">\n",
              "\n",
              "  <div class=\"colab-df-container\">\n",
              "    <button class=\"colab-df-convert\" onclick=\"convertToInteractive('df-c27418cc-ac7d-4311-933c-baeede9f8f53')\"\n",
              "            title=\"Convert this dataframe to an interactive table.\"\n",
              "            style=\"display:none;\">\n",
              "\n",
              "  <svg xmlns=\"http://www.w3.org/2000/svg\" height=\"24px\" viewBox=\"0 -960 960 960\">\n",
              "    <path d=\"M120-120v-720h720v720H120Zm60-500h600v-160H180v160Zm220 220h160v-160H400v160Zm0 220h160v-160H400v160ZM180-400h160v-160H180v160Zm440 0h160v-160H620v160ZM180-180h160v-160H180v160Zm440 0h160v-160H620v160Z\"/>\n",
              "  </svg>\n",
              "    </button>\n",
              "\n",
              "  <style>\n",
              "    .colab-df-container {\n",
              "      display:flex;\n",
              "      gap: 12px;\n",
              "    }\n",
              "\n",
              "    .colab-df-convert {\n",
              "      background-color: #E8F0FE;\n",
              "      border: none;\n",
              "      border-radius: 50%;\n",
              "      cursor: pointer;\n",
              "      display: none;\n",
              "      fill: #1967D2;\n",
              "      height: 32px;\n",
              "      padding: 0 0 0 0;\n",
              "      width: 32px;\n",
              "    }\n",
              "\n",
              "    .colab-df-convert:hover {\n",
              "      background-color: #E2EBFA;\n",
              "      box-shadow: 0px 1px 2px rgba(60, 64, 67, 0.3), 0px 1px 3px 1px rgba(60, 64, 67, 0.15);\n",
              "      fill: #174EA6;\n",
              "    }\n",
              "\n",
              "    .colab-df-buttons div {\n",
              "      margin-bottom: 4px;\n",
              "    }\n",
              "\n",
              "    [theme=dark] .colab-df-convert {\n",
              "      background-color: #3B4455;\n",
              "      fill: #D2E3FC;\n",
              "    }\n",
              "\n",
              "    [theme=dark] .colab-df-convert:hover {\n",
              "      background-color: #434B5C;\n",
              "      box-shadow: 0px 1px 3px 1px rgba(0, 0, 0, 0.15);\n",
              "      filter: drop-shadow(0px 1px 2px rgba(0, 0, 0, 0.3));\n",
              "      fill: #FFFFFF;\n",
              "    }\n",
              "  </style>\n",
              "\n",
              "    <script>\n",
              "      const buttonEl =\n",
              "        document.querySelector('#df-c27418cc-ac7d-4311-933c-baeede9f8f53 button.colab-df-convert');\n",
              "      buttonEl.style.display =\n",
              "        google.colab.kernel.accessAllowed ? 'block' : 'none';\n",
              "\n",
              "      async function convertToInteractive(key) {\n",
              "        const element = document.querySelector('#df-c27418cc-ac7d-4311-933c-baeede9f8f53');\n",
              "        const dataTable =\n",
              "          await google.colab.kernel.invokeFunction('convertToInteractive',\n",
              "                                                    [key], {});\n",
              "        if (!dataTable) return;\n",
              "\n",
              "        const docLinkHtml = 'Like what you see? Visit the ' +\n",
              "          '<a target=\"_blank\" href=https://colab.research.google.com/notebooks/data_table.ipynb>data table notebook</a>'\n",
              "          + ' to learn more about interactive tables.';\n",
              "        element.innerHTML = '';\n",
              "        dataTable['output_type'] = 'display_data';\n",
              "        await google.colab.output.renderOutput(dataTable, element);\n",
              "        const docLink = document.createElement('div');\n",
              "        docLink.innerHTML = docLinkHtml;\n",
              "        element.appendChild(docLink);\n",
              "      }\n",
              "    </script>\n",
              "  </div>\n",
              "\n",
              "\n",
              "<div id=\"df-60bc8d3c-5b56-410f-bbf9-148182819150\">\n",
              "  <button class=\"colab-df-quickchart\" onclick=\"quickchart('df-60bc8d3c-5b56-410f-bbf9-148182819150')\"\n",
              "            title=\"Suggest charts\"\n",
              "            style=\"display:none;\">\n",
              "\n",
              "<svg xmlns=\"http://www.w3.org/2000/svg\" height=\"24px\"viewBox=\"0 0 24 24\"\n",
              "     width=\"24px\">\n",
              "    <g>\n",
              "        <path d=\"M19 3H5c-1.1 0-2 .9-2 2v14c0 1.1.9 2 2 2h14c1.1 0 2-.9 2-2V5c0-1.1-.9-2-2-2zM9 17H7v-7h2v7zm4 0h-2V7h2v10zm4 0h-2v-4h2v4z\"/>\n",
              "    </g>\n",
              "</svg>\n",
              "  </button>\n",
              "\n",
              "<style>\n",
              "  .colab-df-quickchart {\n",
              "      --bg-color: #E8F0FE;\n",
              "      --fill-color: #1967D2;\n",
              "      --hover-bg-color: #E2EBFA;\n",
              "      --hover-fill-color: #174EA6;\n",
              "      --disabled-fill-color: #AAA;\n",
              "      --disabled-bg-color: #DDD;\n",
              "  }\n",
              "\n",
              "  [theme=dark] .colab-df-quickchart {\n",
              "      --bg-color: #3B4455;\n",
              "      --fill-color: #D2E3FC;\n",
              "      --hover-bg-color: #434B5C;\n",
              "      --hover-fill-color: #FFFFFF;\n",
              "      --disabled-bg-color: #3B4455;\n",
              "      --disabled-fill-color: #666;\n",
              "  }\n",
              "\n",
              "  .colab-df-quickchart {\n",
              "    background-color: var(--bg-color);\n",
              "    border: none;\n",
              "    border-radius: 50%;\n",
              "    cursor: pointer;\n",
              "    display: none;\n",
              "    fill: var(--fill-color);\n",
              "    height: 32px;\n",
              "    padding: 0;\n",
              "    width: 32px;\n",
              "  }\n",
              "\n",
              "  .colab-df-quickchart:hover {\n",
              "    background-color: var(--hover-bg-color);\n",
              "    box-shadow: 0 1px 2px rgba(60, 64, 67, 0.3), 0 1px 3px 1px rgba(60, 64, 67, 0.15);\n",
              "    fill: var(--button-hover-fill-color);\n",
              "  }\n",
              "\n",
              "  .colab-df-quickchart-complete:disabled,\n",
              "  .colab-df-quickchart-complete:disabled:hover {\n",
              "    background-color: var(--disabled-bg-color);\n",
              "    fill: var(--disabled-fill-color);\n",
              "    box-shadow: none;\n",
              "  }\n",
              "\n",
              "  .colab-df-spinner {\n",
              "    border: 2px solid var(--fill-color);\n",
              "    border-color: transparent;\n",
              "    border-bottom-color: var(--fill-color);\n",
              "    animation:\n",
              "      spin 1s steps(1) infinite;\n",
              "  }\n",
              "\n",
              "  @keyframes spin {\n",
              "    0% {\n",
              "      border-color: transparent;\n",
              "      border-bottom-color: var(--fill-color);\n",
              "      border-left-color: var(--fill-color);\n",
              "    }\n",
              "    20% {\n",
              "      border-color: transparent;\n",
              "      border-left-color: var(--fill-color);\n",
              "      border-top-color: var(--fill-color);\n",
              "    }\n",
              "    30% {\n",
              "      border-color: transparent;\n",
              "      border-left-color: var(--fill-color);\n",
              "      border-top-color: var(--fill-color);\n",
              "      border-right-color: var(--fill-color);\n",
              "    }\n",
              "    40% {\n",
              "      border-color: transparent;\n",
              "      border-right-color: var(--fill-color);\n",
              "      border-top-color: var(--fill-color);\n",
              "    }\n",
              "    60% {\n",
              "      border-color: transparent;\n",
              "      border-right-color: var(--fill-color);\n",
              "    }\n",
              "    80% {\n",
              "      border-color: transparent;\n",
              "      border-right-color: var(--fill-color);\n",
              "      border-bottom-color: var(--fill-color);\n",
              "    }\n",
              "    90% {\n",
              "      border-color: transparent;\n",
              "      border-bottom-color: var(--fill-color);\n",
              "    }\n",
              "  }\n",
              "</style>\n",
              "\n",
              "  <script>\n",
              "    async function quickchart(key) {\n",
              "      const quickchartButtonEl =\n",
              "        document.querySelector('#' + key + ' button');\n",
              "      quickchartButtonEl.disabled = true;  // To prevent multiple clicks.\n",
              "      quickchartButtonEl.classList.add('colab-df-spinner');\n",
              "      try {\n",
              "        const charts = await google.colab.kernel.invokeFunction(\n",
              "            'suggestCharts', [key], {});\n",
              "      } catch (error) {\n",
              "        console.error('Error during call to suggestCharts:', error);\n",
              "      }\n",
              "      quickchartButtonEl.classList.remove('colab-df-spinner');\n",
              "      quickchartButtonEl.classList.add('colab-df-quickchart-complete');\n",
              "    }\n",
              "    (() => {\n",
              "      let quickchartButtonEl =\n",
              "        document.querySelector('#df-60bc8d3c-5b56-410f-bbf9-148182819150 button');\n",
              "      quickchartButtonEl.style.display =\n",
              "        google.colab.kernel.accessAllowed ? 'block' : 'none';\n",
              "    })();\n",
              "  </script>\n",
              "</div>\n",
              "\n",
              "    </div>\n",
              "  </div>\n"
            ],
            "application/vnd.google.colaboratory.intrinsic+json": {
              "type": "dataframe",
              "variable_name": "data"
            }
          },
          "metadata": {},
          "execution_count": 29
        }
      ]
    },
    {
      "cell_type": "code",
      "source": [
        "data.shape"
      ],
      "metadata": {
        "colab": {
          "base_uri": "https://localhost:8080/"
        },
        "id": "uzb4Cw0YUA7a",
        "outputId": "c4ff46e4-287e-4289-ff96-7b6dd7271a82"
      },
      "execution_count": null,
      "outputs": [
        {
          "output_type": "execute_result",
          "data": {
            "text/plain": [
              "(648246, 14)"
            ]
          },
          "metadata": {},
          "execution_count": 8
        }
      ]
    },
    {
      "cell_type": "code",
      "source": [
        "data['Tranx_Date'] = pd.to_datetime(data['Tranx_Date'])"
      ],
      "metadata": {
        "id": "elcig1AwUeYo"
      },
      "execution_count": null,
      "outputs": []
    },
    {
      "cell_type": "code",
      "source": [
        "data['Updated Time'] = pd.to_datetime(data['Updated Time'])\n"
      ],
      "metadata": {
        "id": "yn65edgMU0Mt"
      },
      "execution_count": null,
      "outputs": []
    },
    {
      "cell_type": "code",
      "source": [
        "print(\"Dataset Loaded:\")"
      ],
      "metadata": {
        "colab": {
          "base_uri": "https://localhost:8080/"
        },
        "id": "X7xAPLepVAHI",
        "outputId": "06bb028b-88bd-4030-82cc-c4caf232130e"
      },
      "execution_count": null,
      "outputs": [
        {
          "output_type": "stream",
          "name": "stdout",
          "text": [
            "Dataset Loaded:\n"
          ]
        }
      ]
    },
    {
      "cell_type": "code",
      "source": [
        "print(data.head())"
      ],
      "metadata": {
        "colab": {
          "base_uri": "https://localhost:8080/"
        },
        "id": "b3v6-MMIVNvj",
        "outputId": "c46054dc-4367-4d0a-dd5a-f1806ec7117f"
      },
      "execution_count": null,
      "outputs": [
        {
          "output_type": "stream",
          "name": "stdout",
          "text": [
            "     Customer ID    Recipient  Amount          Tranx_Date  \\\n",
            "0  8304555449023  0807643XXXX  1650.0 2024-11-24 08:34:03   \n",
            "1  8304555449023  0808341XXXX  1150.0 2024-11-24 13:37:55   \n",
            "2  8304555449023  0703388XXXX   850.0 2024-11-24 09:02:44   \n",
            "3  8304555449023  0806770XXXX   750.0 2024-11-24 20:35:43   \n",
            "4  8304555449023  0802066XXXX   850.0 2024-11-24 08:31:21   \n",
            "\n",
            "                 Tranx ID        Updated Time  Buying Price  \\\n",
            "0  7222324112408349006592 2024-11-24 08:34:03        1615.0   \n",
            "1  7232124112413371719392 2024-11-24 13:37:56        1132.5   \n",
            "2  7232424112409020587992 2024-11-24 09:02:45         843.0   \n",
            "3  7222424112420356982192 2024-11-24 20:35:44         746.5   \n",
            "4  7222124112408315785092 2024-11-24 08:31:22         843.0   \n",
            "\n",
            "  Transaction Gateway Seller Name Vending Channel Account Type Location  \\\n",
            "0               GTW-3         CS1          Direct     postpaid       UK   \n",
            "1               GTW-3         CS1          Direct     postpaid       UK   \n",
            "2               GTW-2         CS2          Direct     postpaid       UK   \n",
            "3               GTW-2         CS2          Direct     postpaid       UK   \n",
            "4               GTW-3         CS1          Direct     postpaid       UK   \n",
            "\n",
            "   product      Status  \n",
            "0     data  Successful  \n",
            "1  airtime  Successful  \n",
            "2  airtime  Successful  \n",
            "3  airtime  Successful  \n",
            "4  airtime  Successful  \n"
          ]
        }
      ]
    },
    {
      "cell_type": "code",
      "source": [
        "# 1. Successful and Failed Transaction Counts\n",
        "successful_transactions = data[data['Status'] == 'Successful']\n"
      ],
      "metadata": {
        "id": "kn7bn0i3VT7x"
      },
      "execution_count": null,
      "outputs": []
    },
    {
      "cell_type": "code",
      "source": [
        "failed_transactions = data[data['Status'] != 'Successful']\n"
      ],
      "metadata": {
        "id": "nj7zGZ1eVgI-"
      },
      "execution_count": null,
      "outputs": []
    },
    {
      "cell_type": "code",
      "source": [
        "successful_count = len(successful_transactions)\n"
      ],
      "metadata": {
        "id": "rApB5CkeVpn6"
      },
      "execution_count": null,
      "outputs": []
    },
    {
      "cell_type": "code",
      "source": [
        "failed_count = len(failed_transactions)\n"
      ],
      "metadata": {
        "id": "9Dfnd2oLV3Jy"
      },
      "execution_count": null,
      "outputs": []
    },
    {
      "cell_type": "code",
      "source": [
        "print(\"\\n1. Successful and Failed Transaction Counts:\")\n",
        "print(f\"Successful Transactions: {successful_count}\")\n",
        "print(f\"Failed Transactions: {failed_count}\")\n"
      ],
      "metadata": {
        "colab": {
          "base_uri": "https://localhost:8080/"
        },
        "id": "0eAPfm9hV68N",
        "outputId": "2119ab33-99eb-4822-c020-1a7eac5930b7"
      },
      "execution_count": null,
      "outputs": [
        {
          "output_type": "stream",
          "name": "stdout",
          "text": [
            "\n",
            "1. Successful and Failed Transaction Counts:\n",
            "Successful Transactions: 643456\n",
            "Failed Transactions: 4790\n"
          ]
        }
      ]
    },
    {
      "cell_type": "code",
      "source": [
        "# 2. Average Response Time (in seconds)\n",
        "data['Response_Time'] = (data['Updated Time'] - data['Tranx_Date']).dt.total_seconds()\n",
        "average_response_time = data['Response_Time'].mean()"
      ],
      "metadata": {
        "id": "KohEdcwwWBLo"
      },
      "execution_count": null,
      "outputs": []
    },
    {
      "cell_type": "code",
      "source": [
        "print(\"\\n2. Average Response Time:\")\n",
        "print(f\"Average Response Time: {average_response_time:.2f} seconds\")\n"
      ],
      "metadata": {
        "colab": {
          "base_uri": "https://localhost:8080/"
        },
        "id": "8E3nATaWWeMw",
        "outputId": "a7e4019e-af70-4b6d-af08-7520007a66a4"
      },
      "execution_count": null,
      "outputs": [
        {
          "output_type": "stream",
          "name": "stdout",
          "text": [
            "\n",
            "2. Average Response Time:\n",
            "Average Response Time: 0.93 seconds\n"
          ]
        }
      ]
    },
    {
      "cell_type": "code",
      "source": [
        "# 3. Failure Rate per Product\n",
        "failure_rate_per_product = failed_transactions.groupby('product')['Tranx ID'].count() / data.groupby('product')['Tranx ID'].count() * 100\n",
        "failure_rate_per_product = failure_rate_per_product.fillna(0)"
      ],
      "metadata": {
        "id": "KoRXlFPXY_gZ"
      },
      "execution_count": null,
      "outputs": []
    },
    {
      "cell_type": "code",
      "source": [
        "print(\"\\n3. Failure Rate per Product:\")\n",
        "print(failure_rate_per_product)"
      ],
      "metadata": {
        "colab": {
          "base_uri": "https://localhost:8080/"
        },
        "id": "Hzqco3goZPPL",
        "outputId": "a45bf19c-be2c-4fce-8576-6810d47f3f45"
      },
      "execution_count": null,
      "outputs": [
        {
          "output_type": "stream",
          "name": "stdout",
          "text": [
            "\n",
            "3. Failure Rate per Product:\n",
            "product\n",
            "Electricity    16.842105\n",
            "airtime         0.401496\n",
            "cabletv         2.941176\n",
            "data            1.915151\n",
            "electricity     0.000000\n",
            "pin             7.909605\n",
            "startimes       0.000000\n",
            "Name: Tranx ID, dtype: float64\n"
          ]
        }
      ]
    },
    {
      "cell_type": "code",
      "source": [
        "# 4. Gross Profit Calculation\n",
        "data['Gross_Profit'] = data['Amount'] - data['Buying Price']\n",
        "gross_profit = data['Gross_Profit'].sum()"
      ],
      "metadata": {
        "id": "_SUc7VK1ZYTQ"
      },
      "execution_count": null,
      "outputs": []
    },
    {
      "cell_type": "code",
      "source": [
        "print(\"\\n4. Gross Profit:\")\n",
        "print(f\"Total Gross Profit: {gross_profit:.2f}\")"
      ],
      "metadata": {
        "colab": {
          "base_uri": "https://localhost:8080/"
        },
        "id": "S8IUaQIUZw5I",
        "outputId": "24dd0aa5-e605-4e18-c64b-e838dbb71e26"
      },
      "execution_count": null,
      "outputs": [
        {
          "output_type": "stream",
          "name": "stdout",
          "text": [
            "\n",
            "4. Gross Profit:\n",
            "Total Gross Profit: 14250030.70\n"
          ]
        }
      ]
    },
    {
      "cell_type": "code",
      "source": [
        "# Summary of KPIs\n",
        "print(\"\\nSummary of KPIs:\")\n",
        "print(f\"Successful Transactions: {successful_count}\")\n",
        "print(f\"Failed Transactions: {failed_count}\")\n",
        "print(f\"Average Response Time: {average_response_time:.2f} seconds\")\n",
        "print(f\"Total Gross Profit: {gross_profit:.2f}\")\n",
        "print(\"\\nFailure Rate per Product:\")\n",
        "print(failure_rate_per_product)"
      ],
      "metadata": {
        "colab": {
          "base_uri": "https://localhost:8080/"
        },
        "id": "hMaPb2CiZ19f",
        "outputId": "a37c82a3-77f0-43f6-fe9a-eac934239e77"
      },
      "execution_count": null,
      "outputs": [
        {
          "output_type": "stream",
          "name": "stdout",
          "text": [
            "\n",
            "Summary of KPIs:\n",
            "Successful Transactions: 643456\n",
            "Failed Transactions: 4790\n",
            "Average Response Time: 0.93 seconds\n",
            "Total Gross Profit: 14250030.70\n",
            "\n",
            "Failure Rate per Product:\n",
            "product\n",
            "Electricity    16.842105\n",
            "airtime         0.401496\n",
            "cabletv         2.941176\n",
            "data            1.915151\n",
            "electricity     0.000000\n",
            "pin             7.909605\n",
            "startimes       0.000000\n",
            "Name: Tranx ID, dtype: float64\n"
          ]
        }
      ]
    },
    {
      "cell_type": "code",
      "source": [
        "# Question 3: Create daily trend chart for the top 5 customers\n",
        "# Top 5 customers by transaction count\n",
        "top_5_customers = data['Customer ID'].value_counts().head(5).index\n",
        "top_5_data = data[data['Customer ID'].isin(top_5_customers)]"
      ],
      "metadata": {
        "id": "sfA0w3PDaTa9"
      },
      "execution_count": null,
      "outputs": []
    },
    {
      "cell_type": "code",
      "source": [
        "# Group data by day and Customer ID\n",
        "daily_trend = top_5_data.groupby([top_5_data['Tranx_Date'].dt.date, 'Customer ID']).size().reset_index(name='Count')\n"
      ],
      "metadata": {
        "id": "ywi3lyEcamS5"
      },
      "execution_count": null,
      "outputs": []
    },
    {
      "cell_type": "code",
      "source": [
        "import matplotlib.pyplot as plt"
      ],
      "metadata": {
        "id": "Q0m1OCgiatiO"
      },
      "execution_count": null,
      "outputs": []
    },
    {
      "cell_type": "code",
      "source": [
        "# Plot the daily trend\n",
        "plt.figure(figsize=(10, 6))\n",
        "sns.lineplot(data=daily_trend, x='Tranx_Date', y='Count', hue='Customer ID', marker='o')\n",
        "plt.title(\"Daily Transaction Trend for Top 5 Customers\")\n",
        "plt.xlabel(\"Date\")\n",
        "plt.ylabel(\"Transaction Count\")\n",
        "plt.xticks(rotation=45)\n",
        "plt.legend(title='Customer ID')\n",
        "plt.show()"
      ],
      "metadata": {
        "colab": {
          "base_uri": "https://localhost:8080/",
          "height": 536
        },
        "id": "n31HbEOPbFMs",
        "outputId": "948fe72d-14a2-40c3-ff36-1323d85e3f06"
      },
      "execution_count": null,
      "outputs": [
        {
          "output_type": "display_data",
          "data": {
            "text/plain": [
              "<Figure size 1000x600 with 1 Axes>"
            ],
            "image/png": "[encoded data removed]"
          },
          "metadata": {}
        }
      ]
    },
    {
      "cell_type": "code",
      "source": [
        "import numpy as np\n",
        "import seaborn as sns"
      ],
      "metadata": {
        "id": "iclTqTJpb1FN"
      },
      "execution_count": null,
      "outputs": []
    },
    {
      "cell_type": "code",
      "source": [
        "# Question 4: Identify top 10 least performing customers per product\n",
        "# Group by Customer ID and product, count transactions\n",
        "customer_product_performance = data.groupby(['Customer ID', 'product']).size().reset_index(name='Transaction_Count')\n"
      ],
      "metadata": {
        "id": "SdHrWMg-b-8i"
      },
      "execution_count": null,
      "outputs": []
    },
    {
      "cell_type": "code",
      "source": [
        "# Sort and get bottom 10 customers per product\n",
        "least_performers = customer_product_performance.sort_values(by='Transaction_Count').groupby('product').head(10)\n",
        "print(\"\\nTop 10 Least Performing Customers per Product:\")\n",
        "print(least_performers)"
      ],
      "metadata": {
        "id": "BC8OAWWQcQSM",
        "outputId": "746b7584-adad-47c9-eb2b-07ec79e59710",
        "colab": {
          "base_uri": "https://localhost:8080/"
        }
      },
      "execution_count": null,
      "outputs": [
        {
          "output_type": "stream",
          "name": "stdout",
          "text": [
            "\n",
            "Top 10 Least Performing Customers per Product:\n",
            "        Customer ID      product  Transaction_Count\n",
            "102  93733698412253         data                  1\n",
            "21     416404425437         data                  1\n",
            "20     416404425437      airtime                  1\n",
            "60    5315668420288          pin                  1\n",
            "40    1733499421416      airtime                  1\n",
            "25     431539048016  electricity                  1\n",
            "78    8304555449023          pin                  1\n",
            "52    3733625420153      airtime                  1\n",
            "87   33733665459469  Electricity                  1\n",
            "30     638422451183      airtime                  1\n",
            "59    4732579472580         data                  1\n",
            "89   33733665459469         data                  1\n",
            "94   53733683488385      airtime                  1\n",
            "95   53733683488385      cabletv                  1\n",
            "5      151172469278      airtime                  1\n",
            "45    2711999437214      cabletv                  1\n",
            "99   91315804436914          pin                  1\n",
            "42    2326019439095      airtime                  1\n",
            "1       16414468728         data                  1\n",
            "31     917000447287  Electricity                  1\n",
            "58    4373359549892         data                  1\n",
            "32     917000447287      cabletv                  2\n",
            "48    3122784473224      airtime                  2\n",
            "33     938425413558         data                  2\n",
            "38    1315619422232      cabletv                  2\n",
            "84    9166616442567    startimes                  2\n",
            "88   33733665459469      airtime                  2\n",
            "6      151172469278         data                  2\n",
            "53    3733677491279  Electricity                  2\n",
            "69    7315606457522      cabletv                  3\n",
            "83    9166616442567  electricity                  3\n",
            "101  93733693420416         data                  3\n",
            "90   33733675434772      airtime                  3\n",
            "91   33733678463596  Electricity                  3\n",
            "96   83733676454855  Electricity                  3\n",
            "65    6312817441723         data                  3\n",
            "14     315468429624      cabletv                  6\n",
            "47    2711999437214          pin                  6\n",
            "67    7315606457522  Electricity                  7\n",
            "43    2711999437214  Electricity                  8\n",
            "81    9166616442567      cabletv                 11\n",
            "16     315468429624  electricity                 18\n",
            "36    1315619422232  Electricity                 25\n",
            "27     431539048016    startimes                 26\n",
            "9      312645843913      cabletv                 44\n",
            "7      312645843913  Electricity                 55\n",
            "23     431539048016      cabletv                 80\n",
            "2      138455421218  Electricity                168\n",
            "76    8304555449023      cabletv                292\n",
            "71    7373362945817          pin                294\n",
            "26     431539048016          pin                936\n"
          ]
        }
      ]
    },
    {
      "cell_type": "code",
      "source": [
        "# Add a Gross Profit column\n",
        "data['Gross_Profit'] = data['Amount'] - data['Buying Price']"
      ],
      "metadata": {
        "id": "C2PABp8ecdA1"
      },
      "execution_count": null,
      "outputs": []
    },
    {
      "cell_type": "code",
      "source": [
        "summary = data.groupby('Customer ID').agg(\n",
        "    Successful_Facevalue=('Amount', lambda x: x[data['Status'] == 'Successful'].sum()),  # Sum of amounts for successful transactions\n",
        "    Failed_FaceValue=('Amount', lambda x: x[data['Status'] != 'Successful'].sum()),  # Sum of amounts for failed transactions\n",
        "    Estimated_Gross_Profit=('Gross_Profit', 'sum'),  # Total Gross Profit\n",
        "    Successful_Count=('Status', lambda x: (x == 'Successful').sum()),  # Count of successful transactions\n",
        "    Failure_Rate=('Status', lambda x: (x != 'Successful').mean())  # Failure rate as the proportion of failed transactions\n",
        ").reset_index()"
      ],
      "metadata": {
        "id": "PSmMOs0ueSnN"
      },
      "execution_count": null,
      "outputs": []
    },
    {
      "cell_type": "code",
      "source": [
        "# Display the summary table\n",
        "print(\"Summary Table:\")\n",
        "print(summary)"
      ],
      "metadata": {
        "id": "PNsPVx7WgblC",
        "outputId": "d11cb7d5-b241-4f71-c486-da6eb8920c12",
        "colab": {
          "base_uri": "https://localhost:8080/"
        }
      },
      "execution_count": null,
      "outputs": [
        {
          "output_type": "stream",
          "name": "stdout",
          "text": [
            "Summary Table:\n",
            "       Customer ID  Successful_Facevalue  Failed_FaceValue  \\\n",
            "0      16414468728          9.750000e+03              0.00   \n",
            "1     138455421218          4.109796e+07         898585.00   \n",
            "2     151172469278          1.245000e+04              0.00   \n",
            "3     312645843913          1.122456e+07         293150.00   \n",
            "4     315382484218          3.829516e+07         567280.00   \n",
            "5     315468429624          4.945871e+06          21600.00   \n",
            "6     373351941589          5.825000e+04              0.00   \n",
            "7     412476446244          4.340243e+08        2091840.35   \n",
            "8     416404425437          7.300000e+03              0.00   \n",
            "9     431539048016          4.998328e+07         916919.00   \n",
            "10    615674487699          1.557100e+05           5950.00   \n",
            "11    638422451183          9.500000e+02              0.00   \n",
            "12    917000447287          7.000000e+02           1450.00   \n",
            "13    938425413558          2.900000e+03              0.00   \n",
            "14   1284897443076          9.066669e+06          69716.00   \n",
            "15   1315619422232          1.633932e+06          61515.00   \n",
            "16   1733499421416          4.150000e+03              0.00   \n",
            "17   2315666486446          1.861500e+05           3450.00   \n",
            "18   2326019439095          1.150000e+03              0.00   \n",
            "19   2711999437214          1.451100e+05         153600.00   \n",
            "20   3122784473224          2.890000e+03              0.00   \n",
            "21   3160254413516          8.724796e+06         156589.00   \n",
            "22   3315408484157          0.000000e+00          48900.00   \n",
            "23   3733625420153          1.650000e+03              0.00   \n",
            "24   3733677491279          5.733500e+04           4900.00   \n",
            "25   4315456478990          1.580000e+04          65150.00   \n",
            "26   4373359549892          1.120000e+04           2200.00   \n",
            "27   4732579472580          5.650000e+03              0.00   \n",
            "28   5315668420288          2.150000e+03              0.00   \n",
            "29   5365347429637          1.411840e+07         405026.00   \n",
            "30   5704313452049          1.320000e+04              0.00   \n",
            "31   6312817441723          2.030900e+04           2000.00   \n",
            "32   6315476430868          6.277500e+05          27750.00   \n",
            "33   7315606457522          1.662148e+06          18800.00   \n",
            "34   7373362945817          9.851000e+05         137600.00   \n",
            "35   7733525453138          1.683000e+05           3300.00   \n",
            "36   8156589470954          0.000000e+00          96750.00   \n",
            "37   8304555449023          1.108308e+08        1578697.00   \n",
            "38   8373358948958          3.155000e+04           1150.00   \n",
            "39   9166616442567          1.593789e+06          36975.00   \n",
            "40   9315518483834          8.624745e+07        1215519.00   \n",
            "41  33733665459469          3.550000e+03           1650.00   \n",
            "42  33733675434772          2.750000e+03              0.00   \n",
            "43  33733678463596          2.723040e+05           6250.00   \n",
            "44  53733683488385          1.710000e+04              0.00   \n",
            "45  83733676454855          1.722980e+05          73475.88   \n",
            "46  91315804436914          0.000000e+00           4350.00   \n",
            "47  93733693420416          1.010000e+04              0.00   \n",
            "48  93733698412253          0.000000e+00            670.00   \n",
            "\n",
            "    Estimated_Gross_Profit  Successful_Count  Failure_Rate  \n",
            "0                   162.50                 5      0.000000  \n",
            "1                826098.53             27354      0.018479  \n",
            "2                   262.50                 3      0.000000  \n",
            "3                218789.69              5695      0.011799  \n",
            "4                676563.76             33634      0.006763  \n",
            "5                 49697.40              2290      0.006508  \n",
            "6                  1525.00                 5      0.000000  \n",
            "7               6748098.62            371574      0.003724  \n",
            "8                   260.00                 2      0.000000  \n",
            "9                679629.24             51753      0.017410  \n",
            "10                 1546.00               159      0.030488  \n",
            "11                    7.50                 1      0.000000  \n",
            "12                    0.00                 1      0.666667  \n",
            "13                   40.00                 2      0.000000  \n",
            "14               193415.88              5635      0.005822  \n",
            "15                30422.21               847      0.021940  \n",
            "16                   87.50                 1      0.000000  \n",
            "17                    0.00               165      0.017857  \n",
            "18                   12.50                 1      0.000000  \n",
            "19                 1904.15                32      0.111111  \n",
            "20                   55.65                 2      0.000000  \n",
            "21               112852.45              8510      0.018341  \n",
            "22                  177.50                 0      1.000000  \n",
            "23                   20.00                 1      0.000000  \n",
            "24                  557.40                58      0.064516  \n",
            "25                    0.00                 2      0.846154  \n",
            "26                  276.00                 6      0.250000  \n",
            "27                  250.00                 1      0.000000  \n",
            "28                   90.00                 1      0.000000  \n",
            "29               261517.24             10450      0.029081  \n",
            "30                  259.00                 8      0.000000  \n",
            "31                  314.47                15      0.117647  \n",
            "32                  489.60               837      0.042334  \n",
            "33                29264.54              1070      0.009259  \n",
            "34                91130.00               230      0.217687  \n",
            "35                    0.00               102      0.019231  \n",
            "36                 1907.50                 0      1.000000  \n",
            "37              1900673.28             78463      0.005337  \n",
            "38                  539.00                19      0.050000  \n",
            "39                22219.75              1356      0.021645  \n",
            "40              2392071.56             42788      0.011208  \n",
            "41                   50.00                 3      0.250000  \n",
            "42                   20.00                 3      0.000000  \n",
            "43                 3453.49               252      0.019455  \n",
            "44                    2.50                 2      0.000000  \n",
            "45                 2975.29               112      0.131783  \n",
            "46                  185.00                 0      1.000000  \n",
            "47                  156.50                 6      0.000000  \n",
            "48                    0.00                 0      1.000000  \n"
          ]
        }
      ]
    },
    {
      "cell_type": "code",
      "source": [
        "# Add failure rate columns with default dummy values (0.0)\n",
        "summary['MTN Failure Rate'] = 0.0\n",
        "summary['Airtel Failure Rate'] = 0.0\n",
        "summary['Glo Failure Rate'] = 0.0\n",
        "summary['9Mobile failure Rate'] = 0.0\n",
        "summary['CableTV Failure Rate'] = 0.0\n",
        "summary['Electricity Failure Rate'] = 0.0"
      ],
      "metadata": {
        "id": "2aRnZKJagjCB"
      },
      "execution_count": null,
      "outputs": []
    },
    {
      "cell_type": "code",
      "source": [
        "# Display the updated summary table\n",
        "print(\"Updated Summary Table with Failure Rate Columns:\")\n",
        "print(summary)"
      ],
      "metadata": {
        "id": "wiSxzRoqgu6N",
        "outputId": "fd162f7a-e972-42a0-a864-ec1ebcdad3cd",
        "colab": {
          "base_uri": "https://localhost:8080/"
        }
      },
      "execution_count": null,
      "outputs": [
        {
          "output_type": "stream",
          "name": "stdout",
          "text": [
            "Updated Summary Table with Failure Rate Columns:\n",
            "       Customer ID  Successful_Facevalue  Failed_FaceValue  \\\n",
            "0      16414468728          9.750000e+03              0.00   \n",
            "1     138455421218          4.109796e+07         898585.00   \n",
            "2     151172469278          1.245000e+04              0.00   \n",
            "3     312645843913          1.122456e+07         293150.00   \n",
            "4     315382484218          3.829516e+07         567280.00   \n",
            "5     315468429624          4.945871e+06          21600.00   \n",
            "6     373351941589          5.825000e+04              0.00   \n",
            "7     412476446244          4.340243e+08        2091840.35   \n",
            "8     416404425437          7.300000e+03              0.00   \n",
            "9     431539048016          4.998328e+07         916919.00   \n",
            "10    615674487699          1.557100e+05           5950.00   \n",
            "11    638422451183          9.500000e+02              0.00   \n",
            "12    917000447287          7.000000e+02           1450.00   \n",
            "13    938425413558          2.900000e+03              0.00   \n",
            "14   1284897443076          9.066669e+06          69716.00   \n",
            "15   1315619422232          1.633932e+06          61515.00   \n",
            "16   1733499421416          4.150000e+03              0.00   \n",
            "17   2315666486446          1.861500e+05           3450.00   \n",
            "18   2326019439095          1.150000e+03              0.00   \n",
            "19   2711999437214          1.451100e+05         153600.00   \n",
            "20   3122784473224          2.890000e+03              0.00   \n",
            "21   3160254413516          8.724796e+06         156589.00   \n",
            "22   3315408484157          0.000000e+00          48900.00   \n",
            "23   3733625420153          1.650000e+03              0.00   \n",
            "24   3733677491279          5.733500e+04           4900.00   \n",
            "25   4315456478990          1.580000e+04          65150.00   \n",
            "26   4373359549892          1.120000e+04           2200.00   \n",
            "27   4732579472580          5.650000e+03              0.00   \n",
            "28   5315668420288          2.150000e+03              0.00   \n",
            "29   5365347429637          1.411840e+07         405026.00   \n",
            "30   5704313452049          1.320000e+04              0.00   \n",
            "31   6312817441723          2.030900e+04           2000.00   \n",
            "32   6315476430868          6.277500e+05          27750.00   \n",
            "33   7315606457522          1.662148e+06          18800.00   \n",
            "34   7373362945817          9.851000e+05         137600.00   \n",
            "35   7733525453138          1.683000e+05           3300.00   \n",
            "36   8156589470954          0.000000e+00          96750.00   \n",
            "37   8304555449023          1.108308e+08        1578697.00   \n",
            "38   8373358948958          3.155000e+04           1150.00   \n",
            "39   9166616442567          1.593789e+06          36975.00   \n",
            "40   9315518483834          8.624745e+07        1215519.00   \n",
            "41  33733665459469          3.550000e+03           1650.00   \n",
            "42  33733675434772          2.750000e+03              0.00   \n",
            "43  33733678463596          2.723040e+05           6250.00   \n",
            "44  53733683488385          1.710000e+04              0.00   \n",
            "45  83733676454855          1.722980e+05          73475.88   \n",
            "46  91315804436914          0.000000e+00           4350.00   \n",
            "47  93733693420416          1.010000e+04              0.00   \n",
            "48  93733698412253          0.000000e+00            670.00   \n",
            "\n",
            "    Estimated_Gross_Profit  Successful_Count  Failure_Rate  MTN Failure Rate  \\\n",
            "0                   162.50                 5      0.000000               0.0   \n",
            "1                826098.53             27354      0.018479               0.0   \n",
            "2                   262.50                 3      0.000000               0.0   \n",
            "3                218789.69              5695      0.011799               0.0   \n",
            "4                676563.76             33634      0.006763               0.0   \n",
            "5                 49697.40              2290      0.006508               0.0   \n",
            "6                  1525.00                 5      0.000000               0.0   \n",
            "7               6748098.62            371574      0.003724               0.0   \n",
            "8                   260.00                 2      0.000000               0.0   \n",
            "9                679629.24             51753      0.017410               0.0   \n",
            "10                 1546.00               159      0.030488               0.0   \n",
            "11                    7.50                 1      0.000000               0.0   \n",
            "12                    0.00                 1      0.666667               0.0   \n",
            "13                   40.00                 2      0.000000               0.0   \n",
            "14               193415.88              5635      0.005822               0.0   \n",
            "15                30422.21               847      0.021940               0.0   \n",
            "16                   87.50                 1      0.000000               0.0   \n",
            "17                    0.00               165      0.017857               0.0   \n",
            "18                   12.50                 1      0.000000               0.0   \n",
            "19                 1904.15                32      0.111111               0.0   \n",
            "20                   55.65                 2      0.000000               0.0   \n",
            "21               112852.45              8510      0.018341               0.0   \n",
            "22                  177.50                 0      1.000000               0.0   \n",
            "23                   20.00                 1      0.000000               0.0   \n",
            "24                  557.40                58      0.064516               0.0   \n",
            "25                    0.00                 2      0.846154               0.0   \n",
            "26                  276.00                 6      0.250000               0.0   \n",
            "27                  250.00                 1      0.000000               0.0   \n",
            "28                   90.00                 1      0.000000               0.0   \n",
            "29               261517.24             10450      0.029081               0.0   \n",
            "30                  259.00                 8      0.000000               0.0   \n",
            "31                  314.47                15      0.117647               0.0   \n",
            "32                  489.60               837      0.042334               0.0   \n",
            "33                29264.54              1070      0.009259               0.0   \n",
            "34                91130.00               230      0.217687               0.0   \n",
            "35                    0.00               102      0.019231               0.0   \n",
            "36                 1907.50                 0      1.000000               0.0   \n",
            "37              1900673.28             78463      0.005337               0.0   \n",
            "38                  539.00                19      0.050000               0.0   \n",
            "39                22219.75              1356      0.021645               0.0   \n",
            "40              2392071.56             42788      0.011208               0.0   \n",
            "41                   50.00                 3      0.250000               0.0   \n",
            "42                   20.00                 3      0.000000               0.0   \n",
            "43                 3453.49               252      0.019455               0.0   \n",
            "44                    2.50                 2      0.000000               0.0   \n",
            "45                 2975.29               112      0.131783               0.0   \n",
            "46                  185.00                 0      1.000000               0.0   \n",
            "47                  156.50                 6      0.000000               0.0   \n",
            "48                    0.00                 0      1.000000               0.0   \n",
            "\n",
            "    Airtel Failure Rate  Glo Failure Rate  9Mobile failure Rate  \\\n",
            "0                   0.0               0.0                   0.0   \n",
            "1                   0.0               0.0                   0.0   \n",
            "2                   0.0               0.0                   0.0   \n",
            "3                   0.0               0.0                   0.0   \n",
            "4                   0.0               0.0                   0.0   \n",
            "5                   0.0               0.0                   0.0   \n",
            "6                   0.0               0.0                   0.0   \n",
            "7                   0.0               0.0                   0.0   \n",
            "8                   0.0               0.0                   0.0   \n",
            "9                   0.0               0.0                   0.0   \n",
            "10                  0.0               0.0                   0.0   \n",
            "11                  0.0               0.0                   0.0   \n",
            "12                  0.0               0.0                   0.0   \n",
            "13                  0.0               0.0                   0.0   \n",
            "14                  0.0               0.0                   0.0   \n",
            "15                  0.0               0.0                   0.0   \n",
            "16                  0.0               0.0                   0.0   \n",
            "17                  0.0               0.0                   0.0   \n",
            "18                  0.0               0.0                   0.0   \n",
            "19                  0.0               0.0                   0.0   \n",
            "20                  0.0               0.0                   0.0   \n",
            "21                  0.0               0.0                   0.0   \n",
            "22                  0.0               0.0                   0.0   \n",
            "23                  0.0               0.0                   0.0   \n",
            "24                  0.0               0.0                   0.0   \n",
            "25                  0.0               0.0                   0.0   \n",
            "26                  0.0               0.0                   0.0   \n",
            "27                  0.0               0.0                   0.0   \n",
            "28                  0.0               0.0                   0.0   \n",
            "29                  0.0               0.0                   0.0   \n",
            "30                  0.0               0.0                   0.0   \n",
            "31                  0.0               0.0                   0.0   \n",
            "32                  0.0               0.0                   0.0   \n",
            "33                  0.0               0.0                   0.0   \n",
            "34                  0.0               0.0                   0.0   \n",
            "35                  0.0               0.0                   0.0   \n",
            "36                  0.0               0.0                   0.0   \n",
            "37                  0.0               0.0                   0.0   \n",
            "38                  0.0               0.0                   0.0   \n",
            "39                  0.0               0.0                   0.0   \n",
            "40                  0.0               0.0                   0.0   \n",
            "41                  0.0               0.0                   0.0   \n",
            "42                  0.0               0.0                   0.0   \n",
            "43                  0.0               0.0                   0.0   \n",
            "44                  0.0               0.0                   0.0   \n",
            "45                  0.0               0.0                   0.0   \n",
            "46                  0.0               0.0                   0.0   \n",
            "47                  0.0               0.0                   0.0   \n",
            "48                  0.0               0.0                   0.0   \n",
            "\n",
            "    CableTV Failure Rate  Electricity Failure Rate  \n",
            "0                    0.0                       0.0  \n",
            "1                    0.0                       0.0  \n",
            "2                    0.0                       0.0  \n",
            "3                    0.0                       0.0  \n",
            "4                    0.0                       0.0  \n",
            "5                    0.0                       0.0  \n",
            "6                    0.0                       0.0  \n",
            "7                    0.0                       0.0  \n",
            "8                    0.0                       0.0  \n",
            "9                    0.0                       0.0  \n",
            "10                   0.0                       0.0  \n",
            "11                   0.0                       0.0  \n",
            "12                   0.0                       0.0  \n",
            "13                   0.0                       0.0  \n",
            "14                   0.0                       0.0  \n",
            "15                   0.0                       0.0  \n",
            "16                   0.0                       0.0  \n",
            "17                   0.0                       0.0  \n",
            "18                   0.0                       0.0  \n",
            "19                   0.0                       0.0  \n",
            "20                   0.0                       0.0  \n",
            "21                   0.0                       0.0  \n",
            "22                   0.0                       0.0  \n",
            "23                   0.0                       0.0  \n",
            "24                   0.0                       0.0  \n",
            "25                   0.0                       0.0  \n",
            "26                   0.0                       0.0  \n",
            "27                   0.0                       0.0  \n",
            "28                   0.0                       0.0  \n",
            "29                   0.0                       0.0  \n",
            "30                   0.0                       0.0  \n",
            "31                   0.0                       0.0  \n",
            "32                   0.0                       0.0  \n",
            "33                   0.0                       0.0  \n",
            "34                   0.0                       0.0  \n",
            "35                   0.0                       0.0  \n",
            "36                   0.0                       0.0  \n",
            "37                   0.0                       0.0  \n",
            "38                   0.0                       0.0  \n",
            "39                   0.0                       0.0  \n",
            "40                   0.0                       0.0  \n",
            "41                   0.0                       0.0  \n",
            "42                   0.0                       0.0  \n",
            "43                   0.0                       0.0  \n",
            "44                   0.0                       0.0  \n",
            "45                   0.0                       0.0  \n",
            "46                   0.0                       0.0  \n",
            "47                   0.0                       0.0  \n",
            "48                   0.0                       0.0  \n"
          ]
        }
      ]
    },
    {
      "cell_type": "code",
      "source": [],
      "metadata": {
        "id": "RrtGbalwgy2f"
      },
      "execution_count": null,
      "outputs": []
    }
  ]
}